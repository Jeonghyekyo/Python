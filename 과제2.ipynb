{
  "nbformat": 4,
  "nbformat_minor": 0,
  "metadata": {
    "colab": {
      "provenance": [],
      "collapsed_sections": [],
      "authorship_tag": "ABX9TyPldkq7UjO0lRSHAP97ovsV",
      "include_colab_link": true
    },
    "kernelspec": {
      "name": "python3",
      "display_name": "Python 3"
    },
    "language_info": {
      "name": "python"
    }
  },
  "cells": [
    {
      "cell_type": "markdown",
      "metadata": {
        "id": "view-in-github",
        "colab_type": "text"
      },
      "source": [
        "<a href=\"https://colab.research.google.com/github/Jeonghyekyo/Python/blob/main/%EA%B3%BC%EC%A0%9C2.ipynb\" target=\"_parent\"><img src=\"https://colab.research.google.com/assets/colab-badge.svg\" alt=\"Open In Colab\"/></a>"
      ]
    },
    {
      "cell_type": "code",
      "execution_count": null,
      "metadata": {
        "colab": {
          "base_uri": "https://localhost:8080/"
        },
        "id": "wCvOdd8Z8OkW",
        "outputId": "2442bf63-33e0-4b6b-9ae9-9876d3cf9397"
      },
      "outputs": [
        {
          "output_type": "stream",
          "name": "stdout",
          "text": [
            "자연수 한 개를 입력하세요.12\n",
            "계속 입력을 원하시면, 자연수 한 개를 입력하시고, 아니라면 0을 입력하세요.23\n",
            "계속 입력을 원하시면, 자연수 한 개를 입력하시고, 아니라면 0을 입력하세요.34\n",
            "계속 입력을 원하시면, 자연수 한 개를 입력하시고, 아니라면 0을 입력하세요.0\n",
            "당신이 입력한 숫자는 큰 것부터 순서대로 말한다면 아래와 같습니다. 34, 23, 12\n"
          ]
        }
      ],
      "source": [
        "# 202203280 정혜교 질문1\n",
        "\n",
        "N=int(input('자연수 한 개를 입력하세요.')) \n",
        "\n",
        "list=[N]\n",
        "\n",
        "while len(list) < 100 :\n",
        "    M=int(input('계속 입력을 원하시면, 자연수 한 개를 입력하시고, 아니라면 0을 입력하세요.'))\n",
        "    \n",
        "    if M==0 :\n",
        "         break\n",
        "\n",
        "    else :\n",
        "      list.append(M)\n",
        "\n",
        "if len(list) == 100 :\n",
        "  print('이제 그만하세요. 벌써 100개를 입력했어요.')\n",
        "\n",
        "for i in range(len(list)) :\n",
        "  max_index=i\n",
        "  for j in range(i+1, len(list)) :\n",
        "    if list[max_index] < list[j] :\n",
        "      max_index=j\n",
        "  list[i], list[max_index]=list[max_index], list[i]\n",
        "L=str(list)[1:-1]\n",
        "\n",
        "print('당신이 입력한 숫자는 큰 것부터 순서대로 말한다면 아래와 같습니다.', L)\n"
      ]
    },
    {
      "cell_type": "code",
      "source": [
        "# 202203280 정혜교 질문2\n",
        "\n",
        "x=int(input())\n",
        "\n",
        "if x <= 30 :\n",
        "  y=1\n",
        "\n",
        "  while x > 0 :\n",
        "    print('*'*(y-1), end='')\n",
        "    print(y)\n",
        "\n",
        "    y += 1\n",
        "    x -= 1\n",
        "\n",
        "else :\n",
        "  print(\"너무 많다.\")"
      ],
      "metadata": {
        "colab": {
          "base_uri": "https://localhost:8080/"
        },
        "id": "4Jr1WlxKC3y3",
        "outputId": "2e48f336-35e9-4887-a9bc-45183aa8c38d"
      },
      "execution_count": 17,
      "outputs": [
        {
          "output_type": "stream",
          "name": "stdout",
          "text": [
            "6\n",
            "1\n",
            "*2\n",
            "**3\n",
            "***4\n",
            "****5\n",
            "*****6\n"
          ]
        }
      ]
    }
  ]
}