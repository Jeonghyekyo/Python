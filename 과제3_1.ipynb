{
  "nbformat": 4,
  "nbformat_minor": 0,
  "metadata": {
    "colab": {
      "provenance": [],
      "collapsed_sections": [],
      "authorship_tag": "ABX9TyOCdQVo7xplGHelA7NyYY7a",
      "include_colab_link": true
    },
    "kernelspec": {
      "name": "python3",
      "display_name": "Python 3"
    },
    "language_info": {
      "name": "python"
    }
  },
  "cells": [
    {
      "cell_type": "markdown",
      "metadata": {
        "id": "view-in-github",
        "colab_type": "text"
      },
      "source": [
        "<a href=\"https://colab.research.google.com/github/Jeonghyekyo/Python/blob/main/%EA%B3%BC%EC%A0%9C3_1.ipynb\" target=\"_parent\"><img src=\"https://colab.research.google.com/assets/colab-badge.svg\" alt=\"Open In Colab\"/></a>"
      ]
    },
    {
      "cell_type": "code",
      "source": [
        "#202203280 정혜교 문제1\n",
        "\n",
        "x=int(input())\n",
        "y=int(input())\n",
        "\n",
        "def f(a,b):\n",
        "  if b%a==0:\n",
        "    return 1\n",
        "  else:\n",
        "    return 0\n",
        "\n",
        "if f(y,x)==f(x,y)==1:\n",
        "  print('{0}와 {1}는 같은 숫자이다.'.format(x,y))\n",
        "elif f(x,y)==1:\n",
        "  print('{0}는 {1}의 약수이지만, {1}가 아니다.'.format(x,y))\n",
        "elif f(y,x)==1:\n",
        "   print('{0}는 {1}의 약수이지만, {1}가 아니다.'.format(y,x))\n",
        "else:\n",
        "  print('{0}와 {1}는 서로의 약수가 아니다.'.format(x,y))"
      ],
      "metadata": {
        "colab": {
          "base_uri": "https://localhost:8080/"
        },
        "id": "bZCKznJSQDWi",
        "outputId": "63ce91c6-a851-4ca5-8d09-a40ed398f696"
      },
      "execution_count": null,
      "outputs": [
        {
          "output_type": "stream",
          "name": "stdout",
          "text": [
            "4\n",
            "8\n",
            "4는 8의 약수이지만, 8가 아니다.\n"
          ]
        }
      ]
    }
  ]
}